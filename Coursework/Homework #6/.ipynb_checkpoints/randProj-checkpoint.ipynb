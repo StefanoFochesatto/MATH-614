{
 "cells": [
  {
   "cell_type": "code",
   "execution_count": 3,
   "id": "1d7f1daf",
   "metadata": {},
   "outputs": [
    {
     "ename": "LoadError",
     "evalue": "syntax: \"==\" is not a unary operator",
     "output_type": "error",
     "traceback": [
      "syntax: \"==\" is not a unary operator",
      "",
      "Stacktrace:",
      " [1] top-level scope",
      "   @ In[3]:4",
      " [2] eval",
      "   @ ./boot.jl:360 [inlined]",
      " [3] include_string(mapexpr::typeof(REPL.softscope), mod::Module, code::String, filename::String)",
      "   @ Base ./loading.jl:1116"
     ]
    }
   ],
   "source": [
    "using LinearAlgebra\n",
    "using Random\n",
    "\n",
    "function randproj(m,k)\n",
    "#This function takes a dimension m, and a rank k\n",
    "#and produces an orthogonal projector P, on a k\n",
    "#dimension subspace of m\n",
    "    A = randn(m);\n",
    "    [Q, R] = qr(A);\n",
    "    P = Q(:,1:k)*Q(:,1:k)';\n",
    "    return P\n",
    "end\n"
   ]
  },
  {
   "cell_type": "code",
   "execution_count": null,
   "id": "1e13a6bf",
   "metadata": {},
   "outputs": [],
   "source": []
  }
 ],
 "metadata": {
  "kernelspec": {
   "display_name": "Julia 1.6.3",
   "language": "julia",
   "name": "julia-1.6"
  },
  "language_info": {
   "file_extension": ".jl",
   "mimetype": "application/julia",
   "name": "julia",
   "version": "1.6.3"
  }
 },
 "nbformat": 4,
 "nbformat_minor": 5
}
