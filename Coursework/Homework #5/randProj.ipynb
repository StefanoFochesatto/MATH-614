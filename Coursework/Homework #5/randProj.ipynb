{
 "cells": [
  {
   "cell_type": "code",
   "execution_count": 30,
   "metadata": {},
   "outputs": [
    {
     "data": {
      "text/plain": [
       "randproj (generic function with 1 method)"
      ]
     },
     "execution_count": 30,
     "metadata": {},
     "output_type": "execute_result"
    }
   ],
   "source": [
    "using LinearAlgebra\n",
    "using Random\n",
    "\n",
    "function randproj(m,k)\n",
    "#This function takes a dimension m, and a rank k\n",
    "#and produces an orthogonal projector P, on a k\n",
    "#dimension subspace of m\n",
    "    A = randn(m,m);\n",
    "    (Q, R)= qr(A)\n",
    "    P = Q[:,1:k]*Q[:,1:k]'\n",
    "    return P\n",
    "end\n"
   ]
  },
  {
   "cell_type": "code",
   "execution_count": 31,
   "metadata": {},
   "outputs": [
    {
     "name": "stdout",
     "output_type": "stream",
     "text": [
      "1.1845016363741053e-15\n",
      "[1.0000000000000002, 1.0, 0.9999999999999997, 0.9999999999999996]\n",
      "[1.0 -1.8652139916661353e-16 -4.694780306361751e-16 3.713322788087426e-18; -1.8652139916661353e-16 0.9999999999999996 1.979381547230302e-16 1.491128131701863e-16; -4.694780306361751e-16 1.979381547230302e-16 1.0 4.3321940223321895e-16; 3.713322788087426e-18 1.491128131701863e-16 4.3321940223321895e-16 0.9999999999999996]"
     ]
    }
   ],
   "source": [
    "P = randproj(4,4)\n",
    "ProjectorCheck = norm(P^2 - P)\n",
    "(U,S,V) = svd(P);\n",
    "println(ProjectorCheck)\n",
    "println(S)\n",
    "print(P)\n"
   ]
  },
  {
   "cell_type": "code",
   "execution_count": 32,
   "metadata": {},
   "outputs": [
    {
     "data": {
      "text/plain": [
       "mgs (generic function with 1 method)"
      ]
     },
     "execution_count": 32,
     "metadata": {},
     "output_type": "execute_result"
    }
   ],
   "source": [
    "function mgs(A)\n",
    "    (m,n) = size(A);\n",
    "    Q = zeros(m,n);\n",
    "    R = zeros(n,n);\n",
    "    \n",
    "    for k = 1:n\n",
    "        Q[:,k] = A[:,k];\n",
    "        for i = 1:k-1\n",
    "            R[i,k] = Q[:,i]'*Q[:,k];\n",
    "            Q[:,k] = Q[:,k] - R[i,k]*Q[:,i];\n",
    "        end\n",
    "        R[k,k] = norm(Q[:,k])';\n",
    "        Q[:,k] = Q[:,k]/R[k,k];\n",
    "    end\n",
    "    return (Q, R)\n",
    "end"
   ]
  },
  {
   "cell_type": "code",
   "execution_count": 33,
   "metadata": {},
   "outputs": [
    {
     "data": {
      "text/plain": [
       "([0.12309149097933272 0.904534033733291 NaN; 0.4923659639173309 0.30151134457776435 NaN; 0.8616404368553291 -0.30151134457776235 NaN], [8.12403840463596 9.601136296387953 11.078234188139945; 0.0 0.9045340337332909 1.8090680674665818; 0.0 0.0 0.0])"
      ]
     },
     "execution_count": 33,
     "metadata": {},
     "output_type": "execute_result"
    }
   ],
   "source": [
    "(Q, R) = mgs([1 2 3; 4 5 6; 7 8 9])"
   ]
  },
  {
   "cell_type": "code",
   "execution_count": 57,
   "metadata": {},
   "outputs": [
    {
     "data": {
      "text/plain": [
       "mgs1 (generic function with 1 method)"
      ]
     },
     "execution_count": 57,
     "metadata": {},
     "output_type": "execute_result"
    }
   ],
   "source": [
    "function mgs1(A)\n",
    "    (m,n) = size(A);\n",
    "    Q = zeros(m,n);\n",
    "    R = zeros(n,n);\n",
    "    V = zeros(m,n);\n",
    "    for i = 1:n\n",
    "        V[:,i] = A[:,i];\n",
    "    end\n",
    "    for i = 1:n\n",
    "        R[i,i] = norm(V[:,i]);\n",
    "        Q[:,i] = V[:,i]/R[i,i];\n",
    "        for j = i+1:n\n",
    "            R[i,j] = Q[:,i]'V[:,j];\n",
    "            V[:,j] = V[:,j] - R[i,j]*Q[:,i];\n",
    "        end\n",
    "    end\n",
    "    return (Q, R)\n",
    "end"
   ]
  },
  {
   "cell_type": "code",
   "execution_count": 58,
   "metadata": {},
   "outputs": [
    {
     "data": {
      "text/plain": [
       "([0.12309149097933272 0.904534033733291 NaN; 0.4923659639173309 0.30151134457776435 NaN; 0.8616404368553291 -0.30151134457776235 NaN], [8.12403840463596 9.601136296387953 11.078234188139945; 0.0 0.9045340337332909 1.8090680674665818; 0.0 0.0 0.0])"
      ]
     },
     "execution_count": 58,
     "metadata": {},
     "output_type": "execute_result"
    }
   ],
   "source": [
    "(Q, R) = mgs1([1 2 3; 4 5 6; 7 8 9])"
   ]
  },
  {
   "cell_type": "code",
   "execution_count": null,
   "metadata": {},
   "outputs": [],
   "source": []
  }
 ],
 "metadata": {
  "kernelspec": {
   "display_name": "Julia 1.6.3",
   "language": "julia",
   "name": "julia-1.6"
  },
  "language_info": {
   "file_extension": ".jl",
   "mimetype": "application/julia",
   "name": "julia",
   "version": "1.6.3"
  }
 },
 "nbformat": 4,
 "nbformat_minor": 5
}
